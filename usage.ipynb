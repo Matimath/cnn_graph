{
 "cells": [
  {
   "cell_type": "markdown",
   "metadata": {},
   "source": [
    "# Introduction\n",
    "\n",
    "$\\newcommand{\\G}{\\mathcal{G}}$\n",
    "$\\newcommand{\\V}{\\mathcal{V}}$\n",
    "$\\newcommand{\\E}{\\mathcal{E}}$\n",
    "$\\newcommand{\\R}{\\mathbb{R}}$\n",
    "\n",
    "This notebook shows how to apply our graph ConvNet ([paper] & [code]), or any other, to your structured or unstructured data. For this example, we assume that we have $n$ samples $x_i \\in \\R^{d_x}$ arranged in a data matrix $$X = [x_1, ..., x_n]^T \\in \\R^{n \\times d_x}.$$ Each sample $x_i$ is associated with a vector $y_i \\in \\R^{d_y}$ for a regression task or a label $y_i \\in \\{0,\\ldots,C\\}$ for a classification task.\n",
    "\n",
    "[paper]: https://arxiv.org/abs/1606.09375\n",
    "[code]:  https://github.com/mdeff/cnn_graph\n",
    "\n",
    "From there, we'll structure our data with a graph $\\G = (\\V, \\E, A)$ where $\\V$ is the set of $d_x = |\\V|$ vertices, $\\E$ is the set of edges and $A \\in \\R^{d_x \\times d_x}$ is the adjacency matrix. That matrix represents the weight of each edge, i.e. $A_{i,j}$ is the weight of the edge connecting $v_i \\in \\V$ to $v_j \\in \\V$. The weights of that feature graph thus represent pairwise relationships between features $i$ and $j$. We call that regime **signal classification / regression**, as the samples $x_i$ to be classified or regressed are graph signals.\n",
    "\n",
    "Other modelling possibilities include:\n",
    "1. Using a data graph, i.e. an adjacency matrix $A \\in \\R^{n \\times n}$ which represents pairwise relationships between samples $x_i \\in \\R^{d_x}$. The problem is here to predict a graph signal $y \\in \\R^{n \\times d_y}$ given a graph characterized by $A$ and some graph signals $X \\in \\R^{n \\times d_x}$. We call that regime **node classification / regression**, as we classify or regress nodes instead of signals.\n",
    "2. Another problem of interest is whole graph classification, with or without signals on top. We'll call that third regime **graph classification / regression**. The problem here is to classify or regress a whole graph $A_i \\in \\R^{n \\times n}$ (with or without an associated data matrix $X_i \\in \\R^{n \\times d_x}$) into $y_i \\in \\R^{d_y}$. In case we have no signal, we can use a constant vector $X_i = 1_n$ of size $n$."
   ]
  },
  {
   "cell_type": "code",
   "execution_count": 1,
   "metadata": {},
   "outputs": [
    {
     "name": "stderr",
     "output_type": "stream",
     "text": [
      "/Users/zk681xh/private/env/lib/python3.7/site-packages/tensorflow/python/framework/dtypes.py:526: FutureWarning: Passing (type, 1) or '1type' as a synonym of type is deprecated; in a future version of numpy, it will be understood as (type, (1,)) / '(1,)type'.\n",
      "  _np_qint8 = np.dtype([(\"qint8\", np.int8, 1)])\n",
      "/Users/zk681xh/private/env/lib/python3.7/site-packages/tensorflow/python/framework/dtypes.py:527: FutureWarning: Passing (type, 1) or '1type' as a synonym of type is deprecated; in a future version of numpy, it will be understood as (type, (1,)) / '(1,)type'.\n",
      "  _np_quint8 = np.dtype([(\"quint8\", np.uint8, 1)])\n",
      "/Users/zk681xh/private/env/lib/python3.7/site-packages/tensorflow/python/framework/dtypes.py:528: FutureWarning: Passing (type, 1) or '1type' as a synonym of type is deprecated; in a future version of numpy, it will be understood as (type, (1,)) / '(1,)type'.\n",
      "  _np_qint16 = np.dtype([(\"qint16\", np.int16, 1)])\n",
      "/Users/zk681xh/private/env/lib/python3.7/site-packages/tensorflow/python/framework/dtypes.py:529: FutureWarning: Passing (type, 1) or '1type' as a synonym of type is deprecated; in a future version of numpy, it will be understood as (type, (1,)) / '(1,)type'.\n",
      "  _np_quint16 = np.dtype([(\"quint16\", np.uint16, 1)])\n",
      "/Users/zk681xh/private/env/lib/python3.7/site-packages/tensorflow/python/framework/dtypes.py:530: FutureWarning: Passing (type, 1) or '1type' as a synonym of type is deprecated; in a future version of numpy, it will be understood as (type, (1,)) / '(1,)type'.\n",
      "  _np_qint32 = np.dtype([(\"qint32\", np.int32, 1)])\n",
      "/Users/zk681xh/private/env/lib/python3.7/site-packages/tensorflow/python/framework/dtypes.py:535: FutureWarning: Passing (type, 1) or '1type' as a synonym of type is deprecated; in a future version of numpy, it will be understood as (type, (1,)) / '(1,)type'.\n",
      "  np_resource = np.dtype([(\"resource\", np.ubyte, 1)])\n"
     ]
    },
    {
     "name": "stdout",
     "output_type": "stream",
     "text": [
      "hello world\n"
     ]
    }
   ],
   "source": [
    "%load_ext autoreload\n",
    "from lib import models, graph, coarsening, utils\n",
    "import numpy as np\n",
    "import matplotlib.pyplot as plt\n",
    "%matplotlib inline"
   ]
  },
  {
   "cell_type": "code",
   "execution_count": 2,
   "metadata": {},
   "outputs": [],
   "source": [
    "  %reload_ext autoreload\n"
   ]
  },
  {
   "cell_type": "markdown",
   "metadata": {},
   "source": [
    "# 1 Data\n",
    "\n",
    "For the purpose of the demo, let's create a random data matrix $X \\in \\R^{n \\times d_x}$ and somehow infer a label $y_i = f(x_i)$."
   ]
  },
  {
   "cell_type": "markdown",
   "metadata": {},
   "source": [
    "Then split this dataset into training, validation and testing sets."
   ]
  },
  {
   "cell_type": "markdown",
   "metadata": {},
   "source": [
    "# 2 Graph\n",
    "\n",
    "The second thing we need is a **graph between features**, i.e. an adjacency matrix $A \\in \\mathbb{R}^{d_x \\times d_x}$.\n",
    "Structuring data with graphs is very flexible: it can accomodate both structured and unstructured data.\n",
    "1. **Structured data**.\n",
    "    1. The data is structured by an Euclidean domain, e.g. $x_i$ represents an image, a sound or a video. We can use a classical ConvNet with 1D, 2D or 3D convolutions or a graph ConvNet with a line or grid graph (however losing the orientation).\n",
    "    2. The data is structured by a graph, e.g. the data lies on a transportation, energy, brain or social network.\n",
    "2. **Unstructured data**. We could use a fully connected network, but the learning and computational complexities are gonna be large. An alternative is to construct a sparse similarity graph between features (or between samples) and use a graph ConvNet, effectively structuring the data and drastically reducing the number of parameters through weight sharing. As for classical ConvNets, the number of parameters are independent of the input size.\n",
    "\n",
    "There are many ways, supervised or unsupervised, to construct a graph given some data. And better the graph, better the performance ! For this example we'll define the adjacency matrix as a simple similarity measure between features. Below are the choices one has to make when constructing such a graph.\n",
    "1. The distance function. We'll use the Euclidean distance $d_{ij} = \\|x_i - x_j\\|_2$.\n",
    "2. The kernel. We'll use the Gaussian kernel $a_{ij} = \\exp(d_{ij}^2 / \\sigma^2)$.\n",
    "3. The type of graph. We'll use a $k$ nearest neigbors (kNN) graph."
   ]
  },
  {
   "cell_type": "code",
   "execution_count": 3,
   "metadata": {},
   "outputs": [
    {
     "name": "stderr",
     "output_type": "stream",
     "text": [
      "Using TensorFlow backend.\n"
     ]
    }
   ],
   "source": [
    "import keras\n",
    "fashion_mnist = keras.datasets.fashion_mnist\n",
    "\n",
    "(train_images, train_labels), (test_images, test_labels) = fashion_mnist.load_data()\n"
   ]
  },
  {
   "cell_type": "code",
   "execution_count": 4,
   "metadata": {},
   "outputs": [
    {
     "data": {
      "text/plain": [
       "(784, 10000)"
      ]
     },
     "execution_count": 4,
     "metadata": {},
     "output_type": "execute_result"
    }
   ],
   "source": [
    "test_images.reshape((10000, 28*28)).T.shape"
   ]
  },
  {
   "cell_type": "code",
   "execution_count": 5,
   "metadata": {},
   "outputs": [
    {
     "name": "stdout",
     "output_type": "stream",
     "text": [
      "d = |V| = 0, k|V| < |E| = 6396\n"
     ]
    }
   ],
   "source": [
    "z = graph.grid(28)\n",
    "dist, idx = graph.distance_sklearn_metrics(z, k=8, metric='euclidean')\n",
    "A = graph.adjacency(dist, idx).astype(np.float32)\n",
    "print('d = |V| = {}, k|V| < |E| = {}'.format(0, A.nnz))\n"
   ]
  },
  {
   "cell_type": "code",
   "execution_count": 6,
   "metadata": {},
   "outputs": [
    {
     "data": {
      "text/plain": [
       "array([ 0, 56, 29,  1, 57, 84, 30, 58])"
      ]
     },
     "execution_count": 6,
     "metadata": {},
     "output_type": "execute_result"
    }
   ],
   "source": [
    "idx[28]"
   ]
  },
  {
   "cell_type": "code",
   "execution_count": 7,
   "metadata": {},
   "outputs": [],
   "source": [
    "def get_laplacian_of_size(grid_size):\n",
    "    z = graph.grid(grid_size)\n",
    "    dist, idx = graph.distance_sklearn_metrics(z, k=8, metric='euclidean')\n",
    "    A = graph.adjacency(dist, idx).astype(np.float32)\n",
    "    return graph.laplacian(A, normalized=True)"
   ]
  },
  {
   "cell_type": "code",
   "execution_count": 8,
   "metadata": {},
   "outputs": [
    {
     "name": "stdout",
     "output_type": "stream",
     "text": [
      "Layer 0: M_0 = |V| = 928 nodes (144 added),|E| = 3198 edges\n",
      "Layer 1: M_1 = |V| = 464 nodes (57 added),|E| = 1439 edges\n",
      "Layer 2: M_2 = |V| = 232 nodes (13 added),|E| = 700 edges\n",
      "Layer 3: M_3 = |V| = 116 nodes (0 added),|E| = 328 edges\n"
     ]
    }
   ],
   "source": [
    "graphs, perm = coarsening.coarsen(A, levels=3, self_connections=False)\n",
    "\n",
    "X_train = train_images.reshape((60000, 28*28)) \n",
    "X_test = test_images.reshape((10000, 28*28)) \n",
    "#X_train = coarsening.perm_data(train_images.reshape((60000, 28*28)), perm)\n",
    "#X_val = coarsening.perm_data(X_val, perm)\n",
    "#X_test = coarsening.perm_data(test_images.reshape((10000, 28*28)), perm)"
   ]
  },
  {
   "cell_type": "code",
   "execution_count": 9,
   "metadata": {},
   "outputs": [
    {
     "data": {
      "text/plain": [
       "(60000, 784)"
      ]
     },
     "execution_count": 9,
     "metadata": {},
     "output_type": "execute_result"
    }
   ],
   "source": [
    "X_train.shape"
   ]
  },
  {
   "cell_type": "code",
   "execution_count": 35,
   "metadata": {},
   "outputs": [],
   "source": [
    "#L = [graph.laplacian(A, normalized=True) for A in graphs]\n",
    "L = [get_laplacian_of_size(s) for s in [28,14,7]]\n",
    "#graph.plot_spectrum(L)"
   ]
  },
  {
   "cell_type": "code",
   "execution_count": 36,
   "metadata": {},
   "outputs": [
    {
     "data": {
      "text/plain": [
       "1.4901161e-08"
      ]
     },
     "execution_count": 36,
     "metadata": {},
     "output_type": "execute_result"
    }
   ],
   "source": [
    "(L[0].todense()-L[0].todense().T).max()"
   ]
  },
  {
   "cell_type": "markdown",
   "metadata": {},
   "source": [
    "# 3 Graph ConvNet\n",
    "\n",
    "Here we apply the graph convolutional neural network to signals lying on graphs. After designing the architecture and setting the hyper-parameters, the model takes as inputs the data matrix $X$, the target $y$ and a list of graph Laplacians $L$, one per coarsening level.\n",
    "\n",
    "The data, architecture and hyper-parameters are absolutely *not engineered to showcase performance*. Its sole purpose is to illustrate usage and functionality."
   ]
  },
  {
   "cell_type": "code",
   "execution_count": 37,
   "metadata": {},
   "outputs": [],
   "source": [
    "params = dict()\n",
    "params['dir_name']       = 'demo'\n",
    "params['num_epochs']     = 40\n",
    "params['batch_size']     = 100\n",
    "params['eval_frequency'] = 200\n",
    "\n",
    "# Building blocks.\n",
    "params['filter']         = 'chebyshev5'\n",
    "params['brelu']          = 'b1relu'\n",
    "params['pool']           = 'apool1'\n",
    "\n",
    "# Number of classes.\n",
    "C = train_labels.max() + 1\n",
    "#assert C == np.unique(y).size\n",
    "n_train = 60000\n",
    "# Architecture.\n",
    "params['F']              = [32,64,64,128]  # Number of graph convolutional filters.\n",
    "params['K']              = [3,3,3,3]  # Polynomial orders.\n",
    "params['p']              = [2, 2, 1]    # Pooling sizes.\n",
    "params['M']              = [512, C]  # Output dimensionality of fully connected layers.\n",
    "\n",
    "# Optimization.\n",
    "params['regularization'] = 5e-4\n",
    "params['dropout']        = 1\n",
    "params['learning_rate']  = 1e-3\n",
    "params['decay_rate']     = 0.95\n",
    "params['momentum']       = 0.9\n",
    "params['decay_steps']    = n_train / params['batch_size']"
   ]
  },
  {
   "cell_type": "code",
   "execution_count": 38,
   "metadata": {},
   "outputs": [
    {
     "name": "stdout",
     "output_type": "stream",
     "text": [
      "NN architecture\n",
      "  input: M_0 = 784\n",
      "  layer 1: cgconv1\n",
      "    representation: M_0 * F_1 / p_1 = 784 * 32 / 2 = 12544\n",
      "    weights: F_0 * F_1 * K_1 = 1 * 32 * 3 = 96\n",
      "    biases: F_1 = 32\n",
      "  layer 2: cgconv2\n",
      "    representation: M_1 * F_2 / p_2 = 196 * 64 / 1 = 12544\n",
      "    weights: F_1 * F_2 * K_2 = 32 * 64 * 3 = 6144\n",
      "    biases: F_2 = 64\n",
      "  layer 3: cgconv3\n",
      "    representation: M_2 * F_3 / p_3 = 196 * 64 / 2 = 6272\n",
      "    weights: F_2 * F_3 * K_3 = 64 * 64 * 3 = 12288\n",
      "    biases: F_3 = 64\n",
      "  layer 4: cgconv4\n",
      "    representation: M_3 * F_4 / p_4 = 49 * 128 / 1 = 6272\n",
      "    weights: F_3 * F_4 * K_4 = 64 * 128 * 3 = 24576\n",
      "    biases: F_4 = 128\n",
      "  layer 5: fc1\n",
      "    representation: M_5 = 512\n",
      "    weights: M_4 * M_5 = 6272 * 512 = 3211264\n",
      "    biases: M_5 = 512\n",
      "  layer 6: logits (softmax)\n",
      "    representation: M_6 = 10\n",
      "    weights: M_5 * M_6 = 512 * 10 = 5120\n",
      "    biases: M_6 = 10\n",
      "hello world\n",
      "step 200 / 24000 (epoch 0.33 / 40):\n",
      "  learning_rate = 1.00e-03, loss_average = 1.98e+00\n",
      "  validation accuracy: 31.36 (3136 / 10000), f1 (weighted): 24.43, loss: 1.97e+00\n",
      "  time: 137s (wall 32s)\n",
      "step 400 / 24000 (epoch 0.67 / 40):\n",
      "  learning_rate = 1.00e-03, loss_average = 1.72e+00\n",
      "  validation accuracy: 44.55 (4455 / 10000), f1 (weighted): 38.81, loss: 1.72e+00\n",
      "  time: 276s (wall 63s)\n",
      "step 600 / 24000 (epoch 1.00 / 40):\n",
      "  learning_rate = 1.00e-03, loss_average = 1.50e+00\n",
      "  validation accuracy: 55.99 (5599 / 10000), f1 (weighted): 52.15, loss: 1.50e+00\n",
      "  time: 408s (wall 94s)\n",
      "step 800 / 24000 (epoch 1.33 / 40):\n",
      "  learning_rate = 9.50e-04, loss_average = 1.39e+00\n",
      "  validation accuracy: 55.16 (5516 / 10000), f1 (weighted): 51.71, loss: 1.42e+00\n",
      "  time: 543s (wall 125s)\n",
      "step 1000 / 24000 (epoch 1.67 / 40):\n",
      "  learning_rate = 9.50e-04, loss_average = 1.28e+00\n",
      "  validation accuracy: 61.97 (6197 / 10000), f1 (weighted): 61.77, loss: 1.25e+00\n",
      "  time: 675s (wall 155s)\n",
      "step 1200 / 24000 (epoch 2.00 / 40):\n",
      "  learning_rate = 9.50e-04, loss_average = 1.19e+00\n",
      "  validation accuracy: 63.58 (6358 / 10000), f1 (weighted): 64.02, loss: 1.20e+00\n",
      "  time: 811s (wall 186s)\n",
      "step 1400 / 24000 (epoch 2.33 / 40):\n",
      "  learning_rate = 9.03e-04, loss_average = 1.06e+00\n",
      "  validation accuracy: 67.26 (6726 / 10000), f1 (weighted): 66.94, loss: 1.11e+00\n",
      "  time: 941s (wall 214s)\n",
      "step 1600 / 24000 (epoch 2.67 / 40):\n",
      "  learning_rate = 9.03e-04, loss_average = 1.11e+00\n",
      "  validation accuracy: 66.87 (6687 / 10000), f1 (weighted): 66.59, loss: 1.07e+00\n",
      "  time: 1076s (wall 244s)\n",
      "step 1800 / 24000 (epoch 3.00 / 40):\n",
      "  learning_rate = 9.03e-04, loss_average = 1.05e+00\n",
      "  validation accuracy: 67.46 (6746 / 10000), f1 (weighted): 68.04, loss: 1.09e+00\n",
      "  time: 1207s (wall 273s)\n",
      "step 2000 / 24000 (epoch 3.33 / 40):\n",
      "  learning_rate = 8.57e-04, loss_average = 9.89e-01\n",
      "  validation accuracy: 70.94 (7094 / 10000), f1 (weighted): 70.42, loss: 9.72e-01\n",
      "  time: 1338s (wall 303s)\n",
      "step 2200 / 24000 (epoch 3.67 / 40):\n",
      "  learning_rate = 8.57e-04, loss_average = 9.81e-01\n",
      "  validation accuracy: 71.00 (7100 / 10000), f1 (weighted): 71.39, loss: 9.80e-01\n",
      "  time: 1469s (wall 332s)\n",
      "step 2400 / 24000 (epoch 4.00 / 40):\n",
      "  learning_rate = 8.57e-04, loss_average = 9.78e-01\n",
      "  validation accuracy: 67.79 (6779 / 10000), f1 (weighted): 67.32, loss: 1.03e+00\n",
      "  time: 1612s (wall 363s)\n",
      "step 2600 / 24000 (epoch 4.33 / 40):\n",
      "  learning_rate = 8.15e-04, loss_average = 8.77e-01\n",
      "  validation accuracy: 71.48 (7148 / 10000), f1 (weighted): 68.75, loss: 9.63e-01\n",
      "  time: 1743s (wall 393s)\n",
      "step 2800 / 24000 (epoch 4.67 / 40):\n",
      "  learning_rate = 8.15e-04, loss_average = 9.02e-01\n",
      "  validation accuracy: 72.38 (7238 / 10000), f1 (weighted): 72.21, loss: 9.19e-01\n",
      "  time: 1875s (wall 423s)\n",
      "step 3000 / 24000 (epoch 5.00 / 40):\n",
      "  learning_rate = 8.15e-04, loss_average = 9.56e-01\n",
      "  validation accuracy: 72.99 (7299 / 10000), f1 (weighted): 71.79, loss: 9.29e-01\n",
      "  time: 2008s (wall 453s)\n",
      "step 3200 / 24000 (epoch 5.33 / 40):\n",
      "  learning_rate = 7.74e-04, loss_average = 8.44e-01\n",
      "  validation accuracy: 72.10 (7210 / 10000), f1 (weighted): 70.69, loss: 8.96e-01\n",
      "  time: 2141s (wall 484s)\n",
      "step 3400 / 24000 (epoch 5.67 / 40):\n",
      "  learning_rate = 7.74e-04, loss_average = 9.20e-01\n",
      "  validation accuracy: 73.71 (7371 / 10000), f1 (weighted): 73.47, loss: 8.71e-01\n",
      "  time: 2274s (wall 514s)\n",
      "step 3600 / 24000 (epoch 6.00 / 40):\n",
      "  learning_rate = 7.74e-04, loss_average = 8.27e-01\n",
      "  validation accuracy: 73.87 (7387 / 10000), f1 (weighted): 74.21, loss: 8.72e-01\n",
      "  time: 2407s (wall 545s)\n",
      "step 3800 / 24000 (epoch 6.33 / 40):\n",
      "  learning_rate = 7.35e-04, loss_average = 8.48e-01\n",
      "  validation accuracy: 74.10 (7410 / 10000), f1 (weighted): 73.07, loss: 8.54e-01\n",
      "  time: 2539s (wall 575s)\n",
      "step 4000 / 24000 (epoch 6.67 / 40):\n",
      "  learning_rate = 7.35e-04, loss_average = 8.21e-01\n",
      "  validation accuracy: 75.68 (7568 / 10000), f1 (weighted): 75.79, loss: 8.34e-01\n",
      "  time: 2670s (wall 605s)\n",
      "step 4200 / 24000 (epoch 7.00 / 40):\n",
      "  learning_rate = 7.35e-04, loss_average = 7.80e-01\n",
      "  validation accuracy: 74.61 (7461 / 10000), f1 (weighted): 74.94, loss: 8.53e-01\n",
      "  time: 2811s (wall 635s)\n",
      "step 4400 / 24000 (epoch 7.33 / 40):\n",
      "  learning_rate = 6.98e-04, loss_average = 7.95e-01\n",
      "  validation accuracy: 75.53 (7553 / 10000), f1 (weighted): 74.55, loss: 8.48e-01\n",
      "  time: 2946s (wall 665s)\n",
      "step 4600 / 24000 (epoch 7.67 / 40):\n",
      "  learning_rate = 6.98e-04, loss_average = 8.08e-01\n",
      "  validation accuracy: 76.06 (7606 / 10000), f1 (weighted): 74.80, loss: 8.18e-01\n",
      "  time: 3078s (wall 695s)\n",
      "step 4800 / 24000 (epoch 8.00 / 40):\n",
      "  learning_rate = 6.98e-04, loss_average = 7.72e-01\n",
      "  validation accuracy: 76.11 (7611 / 10000), f1 (weighted): 76.02, loss: 8.33e-01\n",
      "  time: 3209s (wall 724s)\n",
      "step 5000 / 24000 (epoch 8.33 / 40):\n",
      "  learning_rate = 6.63e-04, loss_average = 8.08e-01\n",
      "  validation accuracy: 74.93 (7493 / 10000), f1 (weighted): 75.01, loss: 8.65e-01\n",
      "  time: 3341s (wall 754s)\n",
      "step 5200 / 24000 (epoch 8.67 / 40):\n",
      "  learning_rate = 6.63e-04, loss_average = 7.47e-01\n",
      "  validation accuracy: 73.82 (7382 / 10000), f1 (weighted): 74.49, loss: 8.47e-01\n",
      "  time: 3474s (wall 784s)\n",
      "step 5400 / 24000 (epoch 9.00 / 40):\n",
      "  learning_rate = 6.63e-04, loss_average = 7.78e-01\n",
      "  validation accuracy: 77.61 (7761 / 10000), f1 (weighted): 77.94, loss: 7.81e-01\n",
      "  time: 3605s (wall 814s)\n",
      "step 5600 / 24000 (epoch 9.33 / 40):\n",
      "  learning_rate = 6.30e-04, loss_average = 7.27e-01\n",
      "  validation accuracy: 78.77 (7877 / 10000), f1 (weighted): 78.61, loss: 7.50e-01\n",
      "  time: 3737s (wall 843s)\n",
      "step 5800 / 24000 (epoch 9.67 / 40):\n",
      "  learning_rate = 6.30e-04, loss_average = 7.54e-01\n",
      "  validation accuracy: 77.51 (7751 / 10000), f1 (weighted): 77.99, loss: 7.74e-01\n",
      "  time: 3870s (wall 873s)\n",
      "step 6000 / 24000 (epoch 10.00 / 40):\n",
      "  learning_rate = 6.30e-04, loss_average = 7.38e-01\n",
      "  validation accuracy: 76.76 (7676 / 10000), f1 (weighted): 77.28, loss: 7.94e-01\n",
      "  time: 4003s (wall 904s)\n",
      "step 6200 / 24000 (epoch 10.33 / 40):\n",
      "  learning_rate = 5.99e-04, loss_average = 6.94e-01\n",
      "  validation accuracy: 78.75 (7875 / 10000), f1 (weighted): 78.70, loss: 7.42e-01\n",
      "  time: 4135s (wall 934s)\n",
      "step 6400 / 24000 (epoch 10.67 / 40):\n",
      "  learning_rate = 5.99e-04, loss_average = 7.33e-01\n",
      "  validation accuracy: 78.64 (7864 / 10000), f1 (weighted): 78.72, loss: 7.54e-01\n",
      "  time: 4268s (wall 964s)\n",
      "step 6600 / 24000 (epoch 11.00 / 40):\n",
      "  learning_rate = 5.99e-04, loss_average = 7.28e-01\n",
      "  validation accuracy: 77.82 (7782 / 10000), f1 (weighted): 77.30, loss: 7.60e-01\n",
      "  time: 4399s (wall 994s)\n",
      "step 6800 / 24000 (epoch 11.33 / 40):\n",
      "  learning_rate = 5.69e-04, loss_average = 7.19e-01\n",
      "  validation accuracy: 79.75 (7975 / 10000), f1 (weighted): 79.66, loss: 7.23e-01\n",
      "  time: 4531s (wall 1024s)\n",
      "step 7000 / 24000 (epoch 11.67 / 40):\n",
      "  learning_rate = 5.69e-04, loss_average = 6.91e-01\n",
      "  validation accuracy: 78.72 (7872 / 10000), f1 (weighted): 78.11, loss: 7.51e-01\n",
      "  time: 4664s (wall 1054s)\n",
      "step 7200 / 24000 (epoch 12.00 / 40):\n",
      "  learning_rate = 5.69e-04, loss_average = 6.68e-01\n",
      "  validation accuracy: 79.62 (7962 / 10000), f1 (weighted): 78.87, loss: 7.30e-01\n",
      "  time: 4796s (wall 1084s)\n",
      "step 7400 / 24000 (epoch 12.33 / 40):\n",
      "  learning_rate = 5.40e-04, loss_average = 6.87e-01\n",
      "  validation accuracy: 78.72 (7872 / 10000), f1 (weighted): 78.43, loss: 7.40e-01\n",
      "  time: 4929s (wall 1114s)\n",
      "step 7600 / 24000 (epoch 12.67 / 40):\n",
      "  learning_rate = 5.40e-04, loss_average = 6.76e-01\n"
     ]
    },
    {
     "name": "stdout",
     "output_type": "stream",
     "text": [
      "  validation accuracy: 80.71 (8071 / 10000), f1 (weighted): 80.80, loss: 7.08e-01\n",
      "  time: 5061s (wall 1145s)\n",
      "step 7800 / 24000 (epoch 13.00 / 40):\n",
      "  learning_rate = 5.40e-04, loss_average = 6.83e-01\n",
      "  validation accuracy: 79.83 (7983 / 10000), f1 (weighted): 79.62, loss: 7.23e-01\n",
      "  time: 5194s (wall 1175s)\n",
      "step 8000 / 24000 (epoch 13.33 / 40):\n",
      "  learning_rate = 5.13e-04, loss_average = 6.87e-01\n",
      "  validation accuracy: 79.89 (7989 / 10000), f1 (weighted): 79.45, loss: 7.24e-01\n",
      "  time: 5326s (wall 1206s)\n",
      "step 8200 / 24000 (epoch 13.67 / 40):\n",
      "  learning_rate = 5.13e-04, loss_average = 7.10e-01\n",
      "  validation accuracy: 80.06 (8006 / 10000), f1 (weighted): 80.15, loss: 7.11e-01\n",
      "  time: 5460s (wall 1236s)\n",
      "step 8400 / 24000 (epoch 14.00 / 40):\n",
      "  learning_rate = 5.13e-04, loss_average = 6.92e-01\n",
      "  validation accuracy: 80.36 (8036 / 10000), f1 (weighted): 80.66, loss: 6.95e-01\n",
      "  time: 5592s (wall 1267s)\n",
      "step 8600 / 24000 (epoch 14.33 / 40):\n",
      "  learning_rate = 4.88e-04, loss_average = 6.98e-01\n",
      "  validation accuracy: 80.37 (8037 / 10000), f1 (weighted): 80.59, loss: 7.04e-01\n",
      "  time: 5725s (wall 1298s)\n",
      "step 8800 / 24000 (epoch 14.67 / 40):\n",
      "  learning_rate = 4.88e-04, loss_average = 6.35e-01\n",
      "  validation accuracy: 80.76 (8076 / 10000), f1 (weighted): 80.81, loss: 6.89e-01\n",
      "  time: 5857s (wall 1329s)\n",
      "step 9000 / 24000 (epoch 15.00 / 40):\n",
      "  learning_rate = 4.88e-04, loss_average = 6.76e-01\n",
      "  validation accuracy: 80.18 (8018 / 10000), f1 (weighted): 79.82, loss: 7.08e-01\n",
      "  time: 5990s (wall 1359s)\n",
      "step 9200 / 24000 (epoch 15.33 / 40):\n",
      "  learning_rate = 4.63e-04, loss_average = 6.77e-01\n",
      "  validation accuracy: 79.81 (7981 / 10000), f1 (weighted): 79.38, loss: 7.18e-01\n",
      "  time: 6123s (wall 1390s)\n",
      "step 9400 / 24000 (epoch 15.67 / 40):\n",
      "  learning_rate = 4.63e-04, loss_average = 6.41e-01\n",
      "  validation accuracy: 81.12 (8112 / 10000), f1 (weighted): 81.35, loss: 6.79e-01\n",
      "  time: 6256s (wall 1421s)\n",
      "step 9600 / 24000 (epoch 16.00 / 40):\n",
      "  learning_rate = 4.63e-04, loss_average = 6.54e-01\n",
      "  validation accuracy: 80.88 (8088 / 10000), f1 (weighted): 80.49, loss: 6.98e-01\n",
      "  time: 6389s (wall 1451s)\n",
      "step 9800 / 24000 (epoch 16.33 / 40):\n",
      "  learning_rate = 4.40e-04, loss_average = 6.42e-01\n",
      "  validation accuracy: 80.64 (8064 / 10000), f1 (weighted): 80.27, loss: 6.99e-01\n",
      "  time: 6521s (wall 1482s)\n",
      "step 10000 / 24000 (epoch 16.67 / 40):\n",
      "  learning_rate = 4.40e-04, loss_average = 6.62e-01\n",
      "  validation accuracy: 81.44 (8144 / 10000), f1 (weighted): 81.31, loss: 6.76e-01\n",
      "  time: 6654s (wall 1513s)\n",
      "step 10200 / 24000 (epoch 17.00 / 40):\n",
      "  learning_rate = 4.40e-04, loss_average = 6.55e-01\n",
      "  validation accuracy: 80.99 (8099 / 10000), f1 (weighted): 80.85, loss: 6.83e-01\n",
      "  time: 6787s (wall 1544s)\n",
      "step 10400 / 24000 (epoch 17.33 / 40):\n",
      "  learning_rate = 4.18e-04, loss_average = 6.44e-01\n",
      "  validation accuracy: 79.79 (7979 / 10000), f1 (weighted): 80.24, loss: 7.00e-01\n",
      "  time: 6920s (wall 1575s)\n",
      "step 10600 / 24000 (epoch 17.67 / 40):\n",
      "  learning_rate = 4.18e-04, loss_average = 6.65e-01\n",
      "  validation accuracy: 81.09 (8109 / 10000), f1 (weighted): 81.34, loss: 6.77e-01\n",
      "  time: 7053s (wall 1606s)\n",
      "step 10800 / 24000 (epoch 18.00 / 40):\n",
      "  learning_rate = 4.18e-04, loss_average = 6.42e-01\n",
      "  validation accuracy: 80.51 (8051 / 10000), f1 (weighted): 80.86, loss: 6.99e-01\n",
      "  time: 7186s (wall 1636s)\n",
      "step 11000 / 24000 (epoch 18.33 / 40):\n",
      "  learning_rate = 3.97e-04, loss_average = 6.16e-01\n",
      "  validation accuracy: 81.58 (8158 / 10000), f1 (weighted): 81.30, loss: 6.66e-01\n",
      "  time: 7318s (wall 1667s)\n",
      "step 11200 / 24000 (epoch 18.67 / 40):\n",
      "  learning_rate = 3.97e-04, loss_average = 6.29e-01\n",
      "  validation accuracy: 81.36 (8136 / 10000), f1 (weighted): 81.41, loss: 6.72e-01\n",
      "  time: 7450s (wall 1698s)\n",
      "step 11400 / 24000 (epoch 19.00 / 40):\n",
      "  learning_rate = 3.97e-04, loss_average = 6.13e-01\n",
      "  validation accuracy: 81.58 (8158 / 10000), f1 (weighted): 81.54, loss: 6.67e-01\n",
      "  time: 7584s (wall 1729s)\n",
      "step 11600 / 24000 (epoch 19.33 / 40):\n",
      "  learning_rate = 3.77e-04, loss_average = 6.03e-01\n",
      "  validation accuracy: 81.86 (8186 / 10000), f1 (weighted): 81.70, loss: 6.60e-01\n",
      "  time: 7717s (wall 1759s)\n",
      "step 11800 / 24000 (epoch 19.67 / 40):\n",
      "  learning_rate = 3.77e-04, loss_average = 6.42e-01\n",
      "  validation accuracy: 80.21 (8021 / 10000), f1 (weighted): 80.17, loss: 7.10e-01\n",
      "  time: 7850s (wall 1790s)\n",
      "step 12000 / 24000 (epoch 20.00 / 40):\n",
      "  learning_rate = 3.77e-04, loss_average = 6.16e-01\n",
      "  validation accuracy: 81.37 (8137 / 10000), f1 (weighted): 81.44, loss: 6.74e-01\n",
      "  time: 7982s (wall 1821s)\n",
      "step 12200 / 24000 (epoch 20.33 / 40):\n",
      "  learning_rate = 3.58e-04, loss_average = 6.40e-01\n",
      "  validation accuracy: 81.82 (8182 / 10000), f1 (weighted): 81.89, loss: 6.55e-01\n",
      "  time: 8115s (wall 1852s)\n",
      "step 12400 / 24000 (epoch 20.67 / 40):\n",
      "  learning_rate = 3.58e-04, loss_average = 5.88e-01\n",
      "  validation accuracy: 82.35 (8235 / 10000), f1 (weighted): 82.10, loss: 6.60e-01\n",
      "  time: 8248s (wall 1882s)\n",
      "step 12600 / 24000 (epoch 21.00 / 40):\n",
      "  learning_rate = 3.58e-04, loss_average = 6.45e-01\n",
      "  validation accuracy: 81.04 (8104 / 10000), f1 (weighted): 80.73, loss: 6.69e-01\n",
      "  time: 8382s (wall 1913s)\n",
      "step 12800 / 24000 (epoch 21.33 / 40):\n",
      "  learning_rate = 3.41e-04, loss_average = 5.96e-01\n",
      "  validation accuracy: 81.70 (8170 / 10000), f1 (weighted): 81.67, loss: 6.54e-01\n",
      "  time: 8515s (wall 1944s)\n",
      "step 13000 / 24000 (epoch 21.67 / 40):\n",
      "  learning_rate = 3.41e-04, loss_average = 6.56e-01\n",
      "  validation accuracy: 81.59 (8159 / 10000), f1 (weighted): 81.76, loss: 6.64e-01\n",
      "  time: 8648s (wall 1975s)\n",
      "step 13200 / 24000 (epoch 22.00 / 40):\n",
      "  learning_rate = 3.41e-04, loss_average = 6.12e-01\n",
      "  validation accuracy: 82.66 (8266 / 10000), f1 (weighted): 82.40, loss: 6.46e-01\n",
      "  time: 8781s (wall 2006s)\n",
      "step 13400 / 24000 (epoch 22.33 / 40):\n",
      "  learning_rate = 3.24e-04, loss_average = 5.86e-01\n",
      "  validation accuracy: 82.55 (8255 / 10000), f1 (weighted): 82.29, loss: 6.42e-01\n",
      "  time: 8913s (wall 2036s)\n",
      "step 13600 / 24000 (epoch 22.67 / 40):\n",
      "  learning_rate = 3.24e-04, loss_average = 6.49e-01\n",
      "  validation accuracy: 81.46 (8146 / 10000), f1 (weighted): 81.26, loss: 6.71e-01\n",
      "  time: 9046s (wall 2067s)\n",
      "step 13800 / 24000 (epoch 23.00 / 40):\n",
      "  learning_rate = 3.24e-04, loss_average = 5.82e-01\n",
      "  validation accuracy: 82.71 (8271 / 10000), f1 (weighted): 82.58, loss: 6.39e-01\n",
      "  time: 9179s (wall 2098s)\n",
      "step 14000 / 24000 (epoch 23.33 / 40):\n",
      "  learning_rate = 3.07e-04, loss_average = 6.10e-01\n",
      "  validation accuracy: 81.92 (8192 / 10000), f1 (weighted): 81.86, loss: 6.53e-01\n",
      "  time: 9312s (wall 2129s)\n",
      "step 14200 / 24000 (epoch 23.67 / 40):\n",
      "  learning_rate = 3.07e-04, loss_average = 6.09e-01\n",
      "  validation accuracy: 82.01 (8201 / 10000), f1 (weighted): 81.66, loss: 6.59e-01\n",
      "  time: 9445s (wall 2159s)\n",
      "step 14400 / 24000 (epoch 24.00 / 40):\n",
      "  learning_rate = 3.07e-04, loss_average = 6.20e-01\n",
      "  validation accuracy: 82.94 (8294 / 10000), f1 (weighted): 82.82, loss: 6.29e-01\n",
      "  time: 9577s (wall 2190s)\n",
      "step 14600 / 24000 (epoch 24.33 / 40):\n",
      "  learning_rate = 2.92e-04, loss_average = 5.78e-01\n",
      "  validation accuracy: 82.61 (8261 / 10000), f1 (weighted): 82.32, loss: 6.44e-01\n",
      "  time: 9712s (wall 2221s)\n",
      "step 14800 / 24000 (epoch 24.67 / 40):\n",
      "  learning_rate = 2.92e-04, loss_average = 5.88e-01\n",
      "  validation accuracy: 81.74 (8174 / 10000), f1 (weighted): 81.61, loss: 6.54e-01\n",
      "  time: 9844s (wall 2252s)\n",
      "step 15000 / 24000 (epoch 25.00 / 40):\n",
      "  learning_rate = 2.92e-04, loss_average = 5.63e-01\n",
      "  validation accuracy: 82.11 (8211 / 10000), f1 (weighted): 82.00, loss: 6.44e-01\n",
      "  time: 9977s (wall 2283s)\n",
      "step 15200 / 24000 (epoch 25.33 / 40):\n",
      "  learning_rate = 2.77e-04, loss_average = 5.90e-01\n",
      "  validation accuracy: 81.57 (8157 / 10000), f1 (weighted): 80.92, loss: 6.72e-01\n",
      "  time: 10110s (wall 2313s)\n",
      "step 15400 / 24000 (epoch 25.67 / 40):\n",
      "  learning_rate = 2.77e-04, loss_average = 5.67e-01\n",
      "  validation accuracy: 82.44 (8244 / 10000), f1 (weighted): 82.45, loss: 6.46e-01\n",
      "  time: 10242s (wall 2344s)\n",
      "step 15600 / 24000 (epoch 26.00 / 40):\n",
      "  learning_rate = 2.77e-04, loss_average = 6.07e-01\n",
      "  validation accuracy: 82.35 (8235 / 10000), f1 (weighted): 82.35, loss: 6.40e-01\n",
      "  time: 10376s (wall 2375s)\n",
      "step 15800 / 24000 (epoch 26.33 / 40):\n",
      "  learning_rate = 2.64e-04, loss_average = 5.86e-01\n",
      "  validation accuracy: 82.64 (8264 / 10000), f1 (weighted): 82.51, loss: 6.36e-01\n",
      "  time: 10508s (wall 2405s)\n"
     ]
    },
    {
     "name": "stdout",
     "output_type": "stream",
     "text": [
      "step 16000 / 24000 (epoch 26.67 / 40):\n",
      "  learning_rate = 2.64e-04, loss_average = 5.96e-01\n",
      "  validation accuracy: 82.01 (8201 / 10000), f1 (weighted): 82.23, loss: 6.42e-01\n",
      "  time: 10641s (wall 2436s)\n",
      "step 16200 / 24000 (epoch 27.00 / 40):\n",
      "  learning_rate = 2.64e-04, loss_average = 6.20e-01\n",
      "  validation accuracy: 82.09 (8209 / 10000), f1 (weighted): 82.30, loss: 6.37e-01\n",
      "  time: 10773s (wall 2467s)\n",
      "step 16400 / 24000 (epoch 27.33 / 40):\n",
      "  learning_rate = 2.50e-04, loss_average = 6.10e-01\n",
      "  validation accuracy: 81.97 (8197 / 10000), f1 (weighted): 81.81, loss: 6.53e-01\n",
      "  time: 10907s (wall 2498s)\n",
      "step 16600 / 24000 (epoch 27.67 / 40):\n",
      "  learning_rate = 2.50e-04, loss_average = 6.20e-01\n",
      "  validation accuracy: 81.68 (8168 / 10000), f1 (weighted): 81.38, loss: 6.65e-01\n",
      "  time: 11040s (wall 2529s)\n",
      "step 16800 / 24000 (epoch 28.00 / 40):\n",
      "  learning_rate = 2.50e-04, loss_average = 6.08e-01\n",
      "  validation accuracy: 82.67 (8267 / 10000), f1 (weighted): 82.59, loss: 6.31e-01\n",
      "  time: 11173s (wall 2560s)\n",
      "step 17000 / 24000 (epoch 28.33 / 40):\n",
      "  learning_rate = 2.38e-04, loss_average = 5.98e-01\n",
      "  validation accuracy: 82.36 (8236 / 10000), f1 (weighted): 82.54, loss: 6.35e-01\n",
      "  time: 11305s (wall 2591s)\n",
      "step 17200 / 24000 (epoch 28.67 / 40):\n",
      "  learning_rate = 2.38e-04, loss_average = 5.58e-01\n",
      "  validation accuracy: 82.80 (8280 / 10000), f1 (weighted): 82.58, loss: 6.33e-01\n",
      "  time: 11441s (wall 2622s)\n",
      "step 17400 / 24000 (epoch 29.00 / 40):\n",
      "  learning_rate = 2.38e-04, loss_average = 5.85e-01\n",
      "  validation accuracy: 82.44 (8244 / 10000), f1 (weighted): 82.36, loss: 6.37e-01\n",
      "  time: 11574s (wall 2653s)\n",
      "step 17600 / 24000 (epoch 29.33 / 40):\n",
      "  learning_rate = 2.26e-04, loss_average = 5.82e-01\n",
      "  validation accuracy: 82.70 (8270 / 10000), f1 (weighted): 82.65, loss: 6.30e-01\n",
      "  time: 11707s (wall 2683s)\n",
      "step 17800 / 24000 (epoch 29.67 / 40):\n",
      "  learning_rate = 2.26e-04, loss_average = 5.89e-01\n",
      "  validation accuracy: 82.87 (8287 / 10000), f1 (weighted): 82.77, loss: 6.29e-01\n",
      "  time: 11847s (wall 2715s)\n",
      "step 18000 / 24000 (epoch 30.00 / 40):\n",
      "  learning_rate = 2.26e-04, loss_average = 5.92e-01\n",
      "  validation accuracy: 82.50 (8250 / 10000), f1 (weighted): 82.19, loss: 6.32e-01\n",
      "  time: 11980s (wall 2746s)\n",
      "step 18200 / 24000 (epoch 30.33 / 40):\n",
      "  learning_rate = 2.15e-04, loss_average = 5.80e-01\n",
      "  validation accuracy: 82.90 (8290 / 10000), f1 (weighted): 82.68, loss: 6.35e-01\n",
      "  time: 12113s (wall 2777s)\n",
      "step 18400 / 24000 (epoch 30.67 / 40):\n",
      "  learning_rate = 2.15e-04, loss_average = 5.87e-01\n",
      "  validation accuracy: 83.18 (8318 / 10000), f1 (weighted): 83.23, loss: 6.18e-01\n",
      "  time: 12245s (wall 2808s)\n",
      "step 18600 / 24000 (epoch 31.00 / 40):\n",
      "  learning_rate = 2.15e-04, loss_average = 5.68e-01\n",
      "  validation accuracy: 83.07 (8307 / 10000), f1 (weighted): 83.17, loss: 6.18e-01\n",
      "  time: 12378s (wall 2839s)\n",
      "step 18800 / 24000 (epoch 31.33 / 40):\n",
      "  learning_rate = 2.04e-04, loss_average = 5.61e-01\n",
      "  validation accuracy: 83.10 (8310 / 10000), f1 (weighted): 83.04, loss: 6.17e-01\n",
      "  time: 12511s (wall 2869s)\n",
      "step 19000 / 24000 (epoch 31.67 / 40):\n",
      "  learning_rate = 2.04e-04, loss_average = 5.42e-01\n",
      "  validation accuracy: 83.49 (8349 / 10000), f1 (weighted): 83.50, loss: 6.11e-01\n",
      "  time: 12644s (wall 2900s)\n",
      "step 19200 / 24000 (epoch 32.00 / 40):\n",
      "  learning_rate = 2.04e-04, loss_average = 5.71e-01\n",
      "  validation accuracy: 83.60 (8360 / 10000), f1 (weighted): 83.51, loss: 6.09e-01\n",
      "  time: 12778s (wall 2931s)\n",
      "step 19400 / 24000 (epoch 32.33 / 40):\n",
      "  learning_rate = 1.94e-04, loss_average = 5.54e-01\n",
      "  validation accuracy: 83.43 (8343 / 10000), f1 (weighted): 83.52, loss: 6.10e-01\n",
      "  time: 12911s (wall 2961s)\n",
      "step 19600 / 24000 (epoch 32.67 / 40):\n",
      "  learning_rate = 1.94e-04, loss_average = 5.80e-01\n",
      "  validation accuracy: 83.06 (8306 / 10000), f1 (weighted): 82.64, loss: 6.28e-01\n",
      "  time: 13042s (wall 2991s)\n",
      "step 19800 / 24000 (epoch 33.00 / 40):\n",
      "  learning_rate = 1.94e-04, loss_average = 5.86e-01\n",
      "  validation accuracy: 83.30 (8330 / 10000), f1 (weighted): 83.01, loss: 6.15e-01\n",
      "  time: 13173s (wall 3020s)\n",
      "step 20000 / 24000 (epoch 33.33 / 40):\n",
      "  learning_rate = 1.84e-04, loss_average = 5.77e-01\n",
      "  validation accuracy: 83.04 (8304 / 10000), f1 (weighted): 82.88, loss: 6.29e-01\n",
      "  time: 13306s (wall 3051s)\n",
      "step 20200 / 24000 (epoch 33.67 / 40):\n",
      "  learning_rate = 1.84e-04, loss_average = 5.93e-01\n",
      "  validation accuracy: 82.70 (8270 / 10000), f1 (weighted): 82.28, loss: 6.37e-01\n",
      "  time: 13438s (wall 3081s)\n",
      "step 20400 / 24000 (epoch 34.00 / 40):\n",
      "  learning_rate = 1.84e-04, loss_average = 5.77e-01\n",
      "  validation accuracy: 83.35 (8335 / 10000), f1 (weighted): 83.38, loss: 6.11e-01\n",
      "  time: 13571s (wall 3111s)\n",
      "step 20600 / 24000 (epoch 34.33 / 40):\n",
      "  learning_rate = 1.75e-04, loss_average = 5.93e-01\n",
      "  validation accuracy: 83.52 (8352 / 10000), f1 (weighted): 83.55, loss: 6.10e-01\n",
      "  time: 13703s (wall 3142s)\n",
      "step 20800 / 24000 (epoch 34.67 / 40):\n",
      "  learning_rate = 1.75e-04, loss_average = 5.57e-01\n",
      "  validation accuracy: 83.72 (8372 / 10000), f1 (weighted): 83.38, loss: 6.08e-01\n",
      "  time: 13835s (wall 3172s)\n",
      "step 21000 / 24000 (epoch 35.00 / 40):\n",
      "  learning_rate = 1.75e-04, loss_average = 5.35e-01\n",
      "  validation accuracy: 83.40 (8340 / 10000), f1 (weighted): 83.26, loss: 6.09e-01\n",
      "  time: 13967s (wall 3202s)\n",
      "step 21200 / 24000 (epoch 35.33 / 40):\n",
      "  learning_rate = 1.66e-04, loss_average = 5.46e-01\n",
      "  validation accuracy: 83.53 (8353 / 10000), f1 (weighted): 83.49, loss: 6.06e-01\n",
      "  time: 14102s (wall 3233s)\n",
      "step 21400 / 24000 (epoch 35.67 / 40):\n",
      "  learning_rate = 1.66e-04, loss_average = 5.38e-01\n",
      "  validation accuracy: 83.18 (8318 / 10000), f1 (weighted): 83.27, loss: 6.16e-01\n",
      "  time: 14234s (wall 3263s)\n",
      "step 21600 / 24000 (epoch 36.00 / 40):\n",
      "  learning_rate = 1.66e-04, loss_average = 5.69e-01\n",
      "  validation accuracy: 82.66 (8266 / 10000), f1 (weighted): 82.55, loss: 6.28e-01\n",
      "  time: 14366s (wall 3294s)\n",
      "step 21800 / 24000 (epoch 36.33 / 40):\n",
      "  learning_rate = 1.58e-04, loss_average = 5.83e-01\n",
      "  validation accuracy: 83.84 (8384 / 10000), f1 (weighted): 83.70, loss: 6.00e-01\n",
      "  time: 14500s (wall 3324s)\n",
      "step 22000 / 24000 (epoch 36.67 / 40):\n",
      "  learning_rate = 1.58e-04, loss_average = 5.45e-01\n",
      "  validation accuracy: 83.61 (8361 / 10000), f1 (weighted): 83.65, loss: 6.00e-01\n",
      "  time: 14632s (wall 3355s)\n",
      "step 22200 / 24000 (epoch 37.00 / 40):\n",
      "  learning_rate = 1.58e-04, loss_average = 5.73e-01\n",
      "  validation accuracy: 83.27 (8327 / 10000), f1 (weighted): 83.27, loss: 6.07e-01\n",
      "  time: 14764s (wall 3385s)\n",
      "step 22400 / 24000 (epoch 37.33 / 40):\n",
      "  learning_rate = 1.50e-04, loss_average = 5.72e-01\n",
      "  validation accuracy: 83.70 (8370 / 10000), f1 (weighted): 83.63, loss: 6.02e-01\n",
      "  time: 14899s (wall 3416s)\n",
      "step 22600 / 24000 (epoch 37.67 / 40):\n",
      "  learning_rate = 1.50e-04, loss_average = 5.78e-01\n",
      "  validation accuracy: 83.44 (8344 / 10000), f1 (weighted): 83.17, loss: 6.12e-01\n",
      "  time: 15032s (wall 3447s)\n",
      "step 22800 / 24000 (epoch 38.00 / 40):\n",
      "  learning_rate = 1.50e-04, loss_average = 5.50e-01\n",
      "  validation accuracy: 83.48 (8348 / 10000), f1 (weighted): 83.26, loss: 6.14e-01\n",
      "  time: 15164s (wall 3478s)\n",
      "step 23000 / 24000 (epoch 38.33 / 40):\n",
      "  learning_rate = 1.42e-04, loss_average = 5.60e-01\n",
      "  validation accuracy: 83.80 (8380 / 10000), f1 (weighted): 83.59, loss: 6.05e-01\n",
      "  time: 15299s (wall 3509s)\n",
      "step 23200 / 24000 (epoch 38.67 / 40):\n",
      "  learning_rate = 1.42e-04, loss_average = 5.49e-01\n",
      "  validation accuracy: 83.84 (8384 / 10000), f1 (weighted): 83.81, loss: 5.95e-01\n",
      "  time: 15432s (wall 3539s)\n",
      "step 23400 / 24000 (epoch 39.00 / 40):\n",
      "  learning_rate = 1.42e-04, loss_average = 5.51e-01\n",
      "  validation accuracy: 83.71 (8371 / 10000), f1 (weighted): 83.72, loss: 6.02e-01\n",
      "  time: 15573s (wall 3572s)\n",
      "step 23600 / 24000 (epoch 39.33 / 40):\n",
      "  learning_rate = 1.35e-04, loss_average = 5.28e-01\n",
      "  validation accuracy: 83.62 (8362 / 10000), f1 (weighted): 83.68, loss: 6.02e-01\n",
      "  time: 15707s (wall 3603s)\n",
      "step 23800 / 24000 (epoch 39.67 / 40):\n",
      "  learning_rate = 1.35e-04, loss_average = 5.82e-01\n",
      "  validation accuracy: 83.90 (8390 / 10000), f1 (weighted): 83.88, loss: 5.94e-01\n",
      "  time: 15843s (wall 3634s)\n",
      "step 24000 / 24000 (epoch 40.00 / 40):\n",
      "  learning_rate = 1.35e-04, loss_average = 5.16e-01\n",
      "  validation accuracy: 83.33 (8333 / 10000), f1 (weighted): 83.04, loss: 6.14e-01\n",
      "  time: 15980s (wall 3666s)\n",
      "validation accuracy: peak = 83.90, mean = 83.61\n"
     ]
    }
   ],
   "source": [
    "model = models.cgcnn(L, **params)\n",
    "accuracy, loss, t_step = model.fit(X_train, train_labels, X_test, test_labels)\n"
   ]
  },
  {
   "cell_type": "code",
   "execution_count": 39,
   "metadata": {},
   "outputs": [
    {
     "name": "stdout",
     "output_type": "stream",
     "text": [
      "INFO:tensorflow:Restoring parameters from /Users/zk681xh/private/cnn_graph2/lib/../checkpoints/demo/model-24000\n",
      "accuracy: 82.90 (8290 / 10000), f1 (weighted): 82.58, loss: 6.30e-01\n",
      "time: 25s (wall 7s)\n"
     ]
    }
   ],
   "source": [
    "res = model.evaluate(rotated_test, test_labels)\n",
    "print(res[0])"
   ]
  },
  {
   "cell_type": "code",
   "execution_count": 40,
   "metadata": {},
   "outputs": [
    {
     "name": "stdout",
     "output_type": "stream",
     "text": [
      "INFO:tensorflow:Restoring parameters from /Users/zk681xh/private/cnn_graph2/lib/../checkpoints/demo/model-24000\n",
      "accuracy: 83.33 (8333 / 10000), f1 (weighted): 83.04, loss: 6.14e-01\n",
      "time: 24s (wall 6s)\n"
     ]
    }
   ],
   "source": [
    "res = model.evaluate(X_test, test_labels)\n",
    "print(res[0])"
   ]
  },
  {
   "cell_type": "code",
   "execution_count": 99,
   "metadata": {},
   "outputs": [],
   "source": [
    "out = model.graph.get_tensor_by_name(\"conv2/pooling/Reshape_1:0\")"
   ]
  },
  {
   "cell_type": "code",
   "execution_count": 19,
   "metadata": {},
   "outputs": [],
   "source": [
    "rotated_test = np.reshape(np.rot90(np.reshape(X_test, (10000,28,28)),1, (1,2)), (10000,28*28))\n",
    "\n"
   ]
  },
  {
   "cell_type": "code",
   "execution_count": 101,
   "metadata": {},
   "outputs": [
    {
     "name": "stdout",
     "output_type": "stream",
     "text": [
      "INFO:tensorflow:Restoring parameters from /Users/zk681xh/private/cnn_graph2/lib/../checkpoints/demo/model-600\n"
     ]
    }
   ],
   "source": [
    "sess = model._get_session(None)"
   ]
  },
  {
   "cell_type": "code",
   "execution_count": 102,
   "metadata": {},
   "outputs": [],
   "source": [
    "rotated_input = np.reshape(np.rot90(np.reshape(X_train[:100,:], (100,28,28)),1, (1,2)), (100,28*28))\n",
    "normal_input = X_train[:100,:]"
   ]
  },
  {
   "cell_type": "code",
   "execution_count": 77,
   "metadata": {},
   "outputs": [
    {
     "data": {
      "text/plain": [
       "<matplotlib.image.AxesImage at 0x176098990>"
      ]
     },
     "execution_count": 77,
     "metadata": {},
     "output_type": "execute_result"
    },
    {
     "data": {
      "image/png": "[encoded data removed]",
      "text/plain": [
       "<Figure size 432x288 with 1 Axes>"
      ]
     },
     "metadata": {
      "needs_background": "light"
     },
     "output_type": "display_data"
    }
   ],
   "source": [
    "from matplotlib import pyplot as plt\n",
    "plt.imshow(np.rot90(normal_image_tensor,1,(0,1)))"
   ]
  },
  {
   "cell_type": "code",
   "execution_count": 121,
   "metadata": {},
   "outputs": [],
   "source": [
    "feed_dict = {model.ph_data: normal_input, model.ph_dropout: 1}\n",
    "normal_tensor = sess.run(out, feed_dict)\n",
    "feed_dict = {model.ph_data: rotated_input, model.ph_dropout: 1}\n",
    "rotated_tensor = sess.run(out, feed_dict)"
   ]
  },
  {
   "cell_type": "code",
   "execution_count": 125,
   "metadata": {},
   "outputs": [
    {
     "data": {
      "text/plain": [
       "(49,)"
      ]
     },
     "execution_count": 125,
     "metadata": {},
     "output_type": "execute_result"
    }
   ],
   "source": [
    "rotated_tensor[0,:,2].shape"
   ]
  },
  {
   "cell_type": "code",
   "execution_count": 126,
   "metadata": {},
   "outputs": [],
   "source": [
    "normal_image_tensor = np.reshape(normal_tensor[0,:,2],(7,7))\n",
    "rotated_image_tensor = np.reshape(rotated_tensor[0,:,2],(7,7))"
   ]
  },
  {
   "cell_type": "code",
   "execution_count": 127,
   "metadata": {},
   "outputs": [],
   "source": [
    "rotated_tensor = np.reshape(res, (100,28,28,32))"
   ]
  },
  {
   "cell_type": "code",
   "execution_count": 129,
   "metadata": {},
   "outputs": [
    {
     "data": {
      "text/plain": [
       "0.0030962527"
      ]
     },
     "execution_count": 129,
     "metadata": {},
     "output_type": "execute_result"
    }
   ],
   "source": [
    "(np.rot90(normal_image_tensor,1,(0,1)) - rotated_image_tensor)"
   ]
  },
  {
   "cell_type": "code",
   "execution_count": 110,
   "metadata": {},
   "outputs": [
    {
     "data": {
      "text/plain": [
       "array([[0., 0., 0., 0., 0., 0., 0.],\n",
       "       [0., 0., 0., 0., 0., 0., 0.],\n",
       "       [0., 0., 0., 0., 0., 0., 0.],\n",
       "       [0., 0., 0., 0., 0., 0., 0.],\n",
       "       [0., 0., 0., 0., 0., 0., 0.],\n",
       "       [0., 0., 0., 0., 0., 0., 0.],\n",
       "       [0., 0., 0., 0., 0., 0., 0.]], dtype=float32)"
      ]
     },
     "execution_count": 110,
     "metadata": {},
     "output_type": "execute_result"
    }
   ],
   "source": [
    "rotated_image_tensor"
   ]
  },
  {
   "cell_type": "markdown",
   "metadata": {},
   "source": [
    "# 4 Evaluation\n",
    "\n",
    "We often want to monitor:\n",
    "1. The convergence, i.e. the training loss and the classification accuracy on the validation set.\n",
    "2. The performance, i.e. the classification accuracy on the testing set (to be compared with the training set accuracy to spot overfitting).\n",
    "\n",
    "The `model_perf` class in [utils.py](utils.py) can be used to compactly evaluate multiple models."
   ]
  },
  {
   "cell_type": "code",
   "execution_count": 110,
   "metadata": {},
   "outputs": [
    {
     "data": {
      "image/png": "[encoded data removed]",
      "text/plain": [
       "<Figure size 1080x360 with 2 Axes>"
      ]
     },
     "metadata": {
      "needs_background": "light"
     },
     "output_type": "display_data"
    }
   ],
   "source": [
    "fig, ax1 = plt.subplots(figsize=(15, 5))\n",
    "ax1.plot(accuracy, 'b.-')\n",
    "ax1.set_ylabel('validation accuracy', color='b')\n",
    "ax2 = ax1.twinx()\n",
    "ax2.plot(loss, 'g.-')\n",
    "ax2.set_ylabel('training loss', color='g')\n",
    "plt.show()"
   ]
  },
  {
   "cell_type": "code",
   "execution_count": 111,
   "metadata": {},
   "outputs": [
    {
     "name": "stdout",
     "output_type": "stream",
     "text": [
      "Time per step: 48.86 ms\n"
     ]
    }
   ],
   "source": [
    "print('Time per step: {:.2f} ms'.format(t_step*1000))"
   ]
  },
  {
   "cell_type": "code",
   "execution_count": 112,
   "metadata": {},
   "outputs": [
    {
     "name": "stdout",
     "output_type": "stream",
     "text": [
      "INFO:tensorflow:Restoring parameters from /Users/zk681xh/private/cnn_graph/lib/../checkpoints/demo/model-24000\n",
      "accuracy: 87.38 (8738 / 10000), f1 (weighted): 87.28, loss: 2.00e+00\n",
      "time: 11s (wall 2s)\n"
     ]
    }
   ],
   "source": [
    "res = model.evaluate(X_test, test_labels)\n",
    "print(res[0])"
   ]
  },
  {
   "cell_type": "code",
   "execution_count": 113,
   "metadata": {},
   "outputs": [],
   "source": [
    "laplacian = graph.laplacian(A, normalized=True)"
   ]
  },
  {
   "cell_type": "code",
   "execution_count": 114,
   "metadata": {},
   "outputs": [],
   "source": [
    "import numpy as np\n",
    "lapl2 = 2 * np.matmul(A.todense(), A.todense()) - np.identity(784)"
   ]
  },
  {
   "cell_type": "code",
   "execution_count": 116,
   "metadata": {},
   "outputs": [],
   "source": [
    "j = 2\n",
    "a = result[:,j]\n",
    "kernel = a[0] * np.identity(784) + a[1] * laplacian# + a[2] * lapl2"
   ]
  },
  {
   "cell_type": "code",
   "execution_count": 117,
   "metadata": {},
   "outputs": [
    {
     "data": {
      "text/plain": [
       "(2, 16)"
      ]
     },
     "execution_count": 117,
     "metadata": {},
     "output_type": "execute_result"
    }
   ],
   "source": [
    "result.shape"
   ]
  },
  {
   "cell_type": "code",
   "execution_count": 118,
   "metadata": {},
   "outputs": [],
   "source": [
    "output_array = np.zeros((28,28))\n",
    "for i in range(28):\n",
    "    for j in range(28):\n",
    "        val = kernel[203,i*28+j]\n",
    "        if not val==0:\n",
    "            output_array[i,j] = val"
   ]
  },
  {
   "cell_type": "code",
   "execution_count": 119,
   "metadata": {},
   "outputs": [
    {
     "data": {
      "text/plain": [
       "array([[ 0.        ,  0.        ,  0.        ,  0.        ,  0.        ],\n",
       "       [ 0.        , -0.03341748, -0.05207108, -0.03341748,  0.        ],\n",
       "       [ 0.        , -0.05207108,  0.14745525, -0.05207106,  0.        ],\n",
       "       [ 0.        , -0.03341748, -0.05207106, -0.03341747,  0.        ],\n",
       "       [ 0.        ,  0.        ,  0.        ,  0.        ,  0.        ]])"
      ]
     },
     "execution_count": 119,
     "metadata": {},
     "output_type": "execute_result"
    }
   ],
   "source": [
    "output_array[5:10, 5:10]"
   ]
  },
  {
   "cell_type": "code",
   "execution_count": 120,
   "metadata": {},
   "outputs": [
    {
     "data": {
      "image/png": "[encoded data removed]",
      "text/plain": [
       "<Figure size 432x288 with 1 Axes>"
      ]
     },
     "metadata": {
      "needs_background": "light"
     },
     "output_type": "display_data"
    }
   ],
   "source": [
    "import matplotlib.pyplot as plt\n",
    "import numpy as np\n",
    "\n",
    "plt.imshow(output_array[5:10, 5:10], cmap='hot', interpolation='nearest')\n",
    "plt.show()"
   ]
  },
  {
   "cell_type": "code",
   "execution_count": 121,
   "metadata": {},
   "outputs": [
    {
     "data": {
      "text/plain": [
       "array([[ 0.        ,  0.        ,  0.        ,  0.        ,  0.        ],\n",
       "       [ 0.        , -0.03341748, -0.05207108, -0.03341748,  0.        ],\n",
       "       [ 0.        , -0.05207108,  0.14745525, -0.05207106,  0.        ],\n",
       "       [ 0.        , -0.03341748, -0.05207106, -0.03341747,  0.        ],\n",
       "       [ 0.        ,  0.        ,  0.        ,  0.        ,  0.        ]])"
      ]
     },
     "execution_count": 121,
     "metadata": {},
     "output_type": "execute_result"
    }
   ],
   "source": [
    "output_array[5:10, 5:10]"
   ]
  },
  {
   "cell_type": "code",
   "execution_count": 134,
   "metadata": {},
   "outputs": [],
   "source": [
    "def generate_kernel(p):\n",
    "    a = result[:,p]\n",
    "    kernel = a[0] * np.identity(784) + a[1] * laplacian# + a[2] * lapl2\n",
    "    output_array = np.zeros((28,28))\n",
    "    for i in range(28):\n",
    "        for j in range(28):\n",
    "            val = kernel[203,i*28+j]\n",
    "            if not val==0:\n",
    "                output_array[i,j] = val\n",
    "    return output_array[6:9, 6:9]"
   ]
  },
  {
   "cell_type": "code",
   "execution_count": 136,
   "metadata": {},
   "outputs": [
    {
     "data": {
      "image/png": "[encoded data removed]",
      "text/plain": [
       "<Figure size 432x288 with 1 Axes>"
      ]
     },
     "metadata": {
      "needs_background": "light"
     },
     "output_type": "display_data"
    }
   ],
   "source": [
    "plt.imshow(generate_kernel(8), cmap='hot', interpolation='nearest')\n",
    "plt.show()"
   ]
  },
  {
   "cell_type": "code",
   "execution_count": 137,
   "metadata": {},
   "outputs": [
    {
     "data": {
      "text/plain": [
       "array([[ 0.01174721,  0.01830449,  0.01174721],\n",
       "       [ 0.01830449, -0.63152501,  0.01830449],\n",
       "       [ 0.01174721,  0.01830449,  0.01174721]])"
      ]
     },
     "execution_count": 137,
     "metadata": {},
     "output_type": "execute_result"
    }
   ],
   "source": [
    "generate_kernel(8)"
   ]
  },
  {
   "cell_type": "code",
   "execution_count": 130,
   "metadata": {},
   "outputs": [
    {
     "data": {
      "image/png": "[encoded data removed]",
      "text/plain": [
       "<Figure size 800x800 with 16 Axes>"
      ]
     },
     "metadata": {},
     "output_type": "display_data"
    }
   ],
   "source": [
    "from matplotlib.pyplot import figure\n",
    "figure(num=None, figsize=(10, 10), dpi=80, facecolor='w', edgecolor='k')\n",
    "plt.axis('off')\n",
    "\n",
    "for i in range(1, 17):\n",
    "    plt.subplot(4,4, i)\n",
    "    plt.axis('off')\n",
    "    plt.imshow(generate_kernel(i-1), cmap='hot', interpolation='nearest')\n",
    "\n",
    "plt.show()\n"
   ]
  },
  {
   "cell_type": "code",
   "execution_count": 61,
   "metadata": {},
   "outputs": [],
   "source": [
    "x = np.array([generate_kernel(i) for i in range(64)])"
   ]
  },
  {
   "cell_type": "code",
   "execution_count": 62,
   "metadata": {},
   "outputs": [],
   "source": [
    "np.save('kernels5x5.npy', x)"
   ]
  },
  {
   "cell_type": "code",
   "execution_count": 131,
   "metadata": {},
   "outputs": [
    {
     "data": {
      "text/plain": [
       "<784x784 sparse matrix of type '<class 'numpy.float32'>'\n",
       "\twith 7180 stored elements in Compressed Sparse Row format>"
      ]
     },
     "execution_count": 131,
     "metadata": {},
     "output_type": "execute_result"
    }
   ],
   "source": [
    "laplacian"
   ]
  },
  {
   "cell_type": "code",
   "execution_count": null,
   "metadata": {},
   "outputs": [],
   "source": []
  }
 ],
 "metadata": {
  "kernelspec": {
   "display_name": "py2env",
   "language": "python",
   "name": "py2env"
  },
  "language_info": {
   "codemirror_mode": {
    "name": "ipython",
    "version": 3
   },
   "file_extension": ".py",
   "mimetype": "text/x-python",
   "name": "python",
   "nbconvert_exporter": "python",
   "pygments_lexer": "ipython3",
   "version": "3.7.5"
  }
 },
 "nbformat": 4,
 "nbformat_minor": 1
}
